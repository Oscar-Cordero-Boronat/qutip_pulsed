{
 "cells": [
  {
   "cell_type": "markdown",
   "id": "20eb4afd",
   "metadata": {},
   "source": [
    "#  Theoretical Pulsed Squeezing Package\n",
    "#### This notebook demonstrates all capabilities of the `theoretical_pulsed` package, including generating and visualizing pulsed squeezing, 1D theoretical calculations, and interactive visualizations.\n",
    "\n",
    "## Importing Classes\n",
    "1) `TheoreticalPulsedSqueezing`: Core class for simulating pulsed squeezing\n",
    "2) `TheoreticalPulsed1D`: Simplified 1D theoretical simulations\n",
    "3) `PulsedSqueezingVisualizer`: Interactive visualization of pulses and squeezing"
   ]
  },
  {
   "cell_type": "markdown",
   "id": "8c025d9e",
   "metadata": {},
   "source": [
    "---"
   ]
  },
  {
   "cell_type": "code",
   "execution_count": 1,
   "id": "198f2140",
   "metadata": {},
   "outputs": [],
   "source": [
    "from theoretical_pulsed import TheoreticalPulsedSqueezing, TheoreticalPulsed1D, PulsedSqueezingVisualizer\n",
    "import numpy as np\n",
    "import matplotlib.pyplot as plt"
   ]
  },
  {
   "cell_type": "markdown",
   "id": "84b83e00",
   "metadata": {},
   "source": [
    "### 1. Using `TheoreticalPulsedSqueezing`\n",
    "This class allows you to define cavity parameters, pump parameters, and compute the squeezing properties of a pulsed light source.\n",
    "\n",
    "#### Initialization Parameters:\n",
    "- `pump_power`: Dimensionless number related to the CW threshold (1 means threshold if the pulse is long enough)\n",
    "- `simulation_time`: Time that the simulation will run for in nanoseconds\n",
    "- `N_points`: Number of points that will be included in the simulation\n",
    "- `R_s`: Signal mirror reflectivity [%]\n",
    "- `R_p`: Pump mirror reflectivity [%]\n",
    "- `L_s`: Signal intra-cavity loss [%]\n",
    "- `L_p`: Pump intra-cavity loss [%]\n",
    "- `tau_cav`: Cavity round-trip time [ns]"
   ]
  },
  {
   "cell_type": "code",
   "execution_count": 2,
   "id": "7d93ea50",
   "metadata": {},
   "outputs": [],
   "source": [
    "sim = TheoreticalPulsedSqueezing(pump_power = 1, simulation_time = 50, N_points = 500, R_s = 94.5, R_p = 73.4, L_s = 0.2, L_p = 0.2, tau_cav = 222e-3)"
   ]
  },
  {
   "cell_type": "markdown",
   "id": "dd2ea6d8",
   "metadata": {},
   "source": [
    "### 1.1 Pulse Types\n",
    "\n",
    "#### a) Perfect Square Pulse (Exact Intra-Cavity Solution)\n",
    "The first implemented and only pulse with an implemented exact solution for the intra-cavity field.\n",
    "\n",
    "**Attributes:**\n",
    "- `start_pulse`: Start time of the pulse [ns]  \n",
    "- `pulse_length`: Duration of the pulse [ns]  \n",
    "\n",
    "**Method:**\n",
    "```python\n",
    "simulate_square_pulse(start_pulse, length_pulse)"
   ]
  },
  {
   "cell_type": "code",
   "execution_count": 3,
   "id": "8514d6fb",
   "metadata": {},
   "outputs": [],
   "source": [
    "sim.simulate_square_pulse(start_pulse = 3, pulse_length=5)"
   ]
  },
  {
   "cell_type": "markdown",
   "id": "56e264b1",
   "metadata": {},
   "source": [
    "#### b) Generic Square (Trapezoidal) Pulse\n",
    "A more realistic pulse shape with a finite rise and fall time.\n",
    "\n",
    "**Attributes:**\n",
    "- `t_start`: Start time of the pulse [ns]  \n",
    "- `t_rise`: Time to reach full amplitude [ns]  \n",
    "- `t_plateau`: Duration of the flat top [ns] \n",
    "- `t_fall`: Time to decay to zero [ns]  \n",
    "- `noise` *(optional)*: Standard deviation of Gaussian noise added to the pulse \n",
    "\n",
    "**Method:**\n",
    "```python\n",
    "simulate_trapezoid_pulse(start_pulse, length_pulse)"
   ]
  },
  {
   "cell_type": "code",
   "execution_count": 4,
   "id": "38cd2f88",
   "metadata": {},
   "outputs": [],
   "source": [
    "sim.simulate_trapezoid_pulse(t_start=3, t_rise=2, t_plateau=3, t_fall=2, noise = 0.0)"
   ]
  },
  {
   "cell_type": "markdown",
   "id": "f2030fc0",
   "metadata": {},
   "source": [
    "#### c) Gaussian Pulse\n",
    "A smooth pulse defined by its center and width.\n",
    "\n",
    "**Attributes:**\n",
    "- `t_center`: Pulse center [ns] \n",
    "- `sigma`: Pulse width (standard deviation) [ns]\n",
    "- `noise` *(optional)*: Standard deviation of Gaussian noise added to the pulse \n",
    "\n",
    "**Method:**\n",
    "```python\n",
    "simulate_gaussian_pulse(t_center, sigma, noise)"
   ]
  },
  {
   "cell_type": "code",
   "execution_count": 5,
   "id": "26d5139b",
   "metadata": {},
   "outputs": [],
   "source": [
    "sim.simulate_gaussian_pulse(t_center=5, sigma = 1, noise = 0)"
   ]
  },
  {
   "cell_type": "markdown",
   "id": "5b34d33a",
   "metadata": {},
   "source": [
    "#### d) Custom Pulse\n",
    "Allows you to define any pulse shape with an array of values.\n",
    "\n",
    "**Attributes:**\n",
    "- `input_pulse`: Numpy array defining the pulse amplitude at each simulation point\n",
    "\n",
    "**Method:**\n",
    "```python\n",
    "simulate_gaussian_pulse(input_pulse)"
   ]
  },
  {
   "cell_type": "code",
   "execution_count": 6,
   "id": "e889e11a",
   "metadata": {},
   "outputs": [],
   "source": [
    "import numpy as np\n",
    "\n",
    "t = np.linspace(0, 80, 500)\n",
    "pulse = ((t >= 3) & (t < 8)) * 1.0 + ((t >= 25) & (t < 30)) * 1.0\n",
    "sim.simulate_custom_pulse(pulse)"
   ]
  },
  {
   "cell_type": "markdown",
   "id": "b7efe071",
   "metadata": {},
   "source": [
    "### 1.2 Important Attributes\n",
    "\n",
    "**Attributes**\n",
    "\n",
    "- *N*: N-moment matrix (N_points × N_points)  \n",
    "- *M*: M-moment matrix (N_points × N_points)  \n",
    "- *eigenvalues*: Eigenvalues of the N-moment matrix (sorted in descending order)  \n",
    "- *eigenvectors*: Eigenvectors of the N-moment matrix (sorted according to eigenvalues)  \n",
    "- *first_eigenvector*: Eigenvector corresponding to the largest eigenvalue  \n",
    "- *purity*: Purity of the quantum state  \n",
    "- *schmidt*: Schmidt decomposition value of the quantum state  \n",
    "- *squeezing*: Squeezing values for the first mode  \n",
    "- *antisqueezing*: Antisqueezing values for the first mode  \n",
    "- *squeezing_modes*: Squeezing values for all modes (sorted in descending order)  \n",
    "- *antisqueezing_modes*: Antisqueezing values for all modes (sorted in descending order)\n"
   ]
  },
  {
   "cell_type": "markdown",
   "id": "09c8677e",
   "metadata": {},
   "source": [
    "---"
   ]
  },
  {
   "cell_type": "markdown",
   "id": "e2fcfe5e",
   "metadata": {},
   "source": [
    "### 2. Using `TheoreticalPulsed1D`\n",
    "This class allows simulating a 1D pulsed squeezing scenario. One of the parameters can be a numpy array (e.g., from `linspace`), and the class will automatically plot the results.\n",
    "\n",
    "#### Initialization Parameters:\n",
    "- `pump_power`: Dimensionless number related to the CW threshold (1 means threshold if the pulse is long enough)  \n",
    "- `simulation_time`: Total simulation time [ns]  \n",
    "- `N_points`: Number of points in the simulation  \n",
    "- `R_s`: Signal mirror reflectivity [%] (default: 94.5)  \n",
    "- `R_p`: Pump mirror reflectivity [%] (default: 73.4)  \n",
    "- `L_s`: Signal intra-cavity loss [%] (default: 0.2)  \n",
    "- `L_p`: Pump intra-cavity loss [%] (default: 0.2)  \n",
    "- `tau_cav`: Cavity round-trip time [ns] (default: 222e-3)  \n",
    "\n",
    "#### Pulse Parameters\n",
    "Use `set_pulse_params` to define the pulse shape:\n",
    "\n",
    "- `t_start`: Pulse start time [ns]  (default: 3)\n",
    "- `t_rise`: Rise time of the pulse [ns] (default: 0)  \n",
    "- `t_plateau`: Duration of the plateau [ns] (default: 5)  \n",
    "- `t_fall`: Fall time of the pulse [ns] (default: 0)\n"
   ]
  },
  {
   "cell_type": "code",
   "execution_count": 7,
   "id": "bd1b7414",
   "metadata": {},
   "outputs": [],
   "source": [
    "sim = TheoreticalPulsed1D(\n",
    "    pump_power=1,\n",
    "    simulation_time=100, \n",
    "    N_points=500,\n",
    "    R_s = 94.5,\n",
    "    R_p = 73.4,\n",
    "    L_s = 0.2,\n",
    "    L_p = 0.2,\n",
    "    tau_cav = 222e-3\n",
    ")\n",
    "sim.set_pulse_params(t_start = 3, t_rise = 0, t_plateau = np.linspace(1,10,10), t_fall = 0)  # sweeping t_plateau"
   ]
  },
  {
   "cell_type": "markdown",
   "id": "28147f44",
   "metadata": {},
   "source": [
    "#### Running the Simulation\n",
    "\n",
    "- `sim.run()`:  \n",
    "  This method performs the actual simulation of the pulsed squeezing scenario using the parameters defined during initialization and with `set_pulse_params`.  \n",
    "  *Only one parameter can be swept at a time;* otherwise, an error will occur.  \n",
    "  After running, the object stores computed attributes such as *squeezing*, *antisqueezing*, and *Schmidt number*.\n",
    "\n",
    "- `sim.plot()`:  \n",
    "  This method automatically generates plots of the simulation results for *antisqueezing* and *Schmidt number*.\n",
    "\n"
   ]
  },
  {
   "cell_type": "code",
   "execution_count": 8,
   "id": "76b27820",
   "metadata": {},
   "outputs": [
    {
     "name": "stderr",
     "output_type": "stream",
     "text": [
      "Sweeping t_plateau: 100%|██████████| 10/10 [00:00<00:00, 33.17it/s]\n"
     ]
    },
    {
     "data": {
      "image/png": "[encoded data removed]",
      "text/plain": [
       "<Figure size 1000x400 with 2 Axes>"
      ]
     },
     "metadata": {},
     "output_type": "display_data"
    }
   ],
   "source": [
    "sim.run()\n",
    "sim.plot()"
   ]
  },
  {
   "cell_type": "markdown",
   "id": "c1ddd31a",
   "metadata": {},
   "source": [
    "---"
   ]
  },
  {
   "cell_type": "markdown",
   "id": "51a1ed88",
   "metadata": {},
   "source": [
    "### 3. Using `PulsedSqueezingVisualizer`\n",
    "\n",
    "This class allows you to interactively explore and visualize the parameters of pulsed squeezing simulations.\n",
    "\n",
    "#### Initialization Parameters:\n",
    "- `vis = PulsedSqueezingVisualizer(TheoreticalPulsedSqueezing)`\n",
    "\n",
    "#### Methods:\n",
    "- `interact_custom_pulse(t, input_pulse)`  \n",
    "  Allows defining a fully custom pulse by providing a time array `t` and a corresponding pulse amplitude array `input_pulse`.\n",
    "\n",
    "- `interact_trapezoidal_pulse()`  \n",
    "  Opens an interactive interface to create a trapezoidal pulse with adjustable rise, plateau, and fall times.\n",
    "\n",
    "- `interact_gaussian_pulse()`  \n",
    "  Opens an interactive interface to create a Gaussian pulse with adjustable center and width.\n",
    "\n",
    "- `interact_square_pulse()`  \n",
    "  Opens an interactive interface to create a perfect square pulse with adjustable start time and duration.\n",
    "\n"
   ]
  },
  {
   "cell_type": "code",
   "execution_count": 14,
   "id": "b4ddf4e7",
   "metadata": {},
   "outputs": [
    {
     "data": {
      "application/vnd.jupyter.widget-view+json": {
       "model_id": "d2bb0ca9fcc844a88ef0561136e2733d",
       "version_major": 2,
       "version_minor": 0
      },
      "text/plain": [
       "interactive(children=(FloatSlider(value=1.0, description='Pump Power', layout=Layout(width='450px'), max=5.0, …"
      ]
     },
     "metadata": {},
     "output_type": "display_data"
    }
   ],
   "source": [
    "vis = PulsedSqueezingVisualizer(TheoreticalPulsedSqueezing)\n",
    "vis.interact_square_pulse()\n",
    "\n"
   ]
  }
 ],
 "metadata": {
  "kernelspec": {
   "display_name": "Python (qutip_pulsed)",
   "language": "python",
   "name": "qutip_pulsed"
  },
  "language_info": {
   "codemirror_mode": {
    "name": "ipython",
    "version": 3
   },
   "file_extension": ".py",
   "mimetype": "text/x-python",
   "name": "python",
   "nbconvert_exporter": "python",
   "pygments_lexer": "ipython3",
   "version": "3.13.5"
  }
 },
 "nbformat": 4,
 "nbformat_minor": 5
}
